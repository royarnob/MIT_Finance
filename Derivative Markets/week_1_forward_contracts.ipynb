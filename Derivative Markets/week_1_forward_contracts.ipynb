{
 "cells": [
  {
   "cell_type": "markdown",
   "metadata": {},
   "source": [
    "### Forward Contracts Review"
   ]
  },
  {
   "cell_type": "markdown",
   "metadata": {},
   "source": [
    "#### 0. Introduction\n",
    "**Outline**\n",
    "- Forward contract basics\n",
    "    - Definition\n",
    "    - Profit/Loss\n",
    "    - Currency hedge and payoff diagrams\n",
    "    - Risk-free rates & yield curve\n",
    "    - Interpretation of forward contracts as highly levered positions\n",
    "- Pricing formulas\n",
    "    - Financial assets: stocks, bonds, currencies\n",
    "    - Commodities\n",
    "- Key concepts for hedging and speculating"
   ]
  },
  {
   "cell_type": "markdown",
   "metadata": {},
   "source": []
  }
 ],
 "metadata": {
  "language_info": {
   "name": "python"
  }
 },
 "nbformat": 4,
 "nbformat_minor": 2
}
